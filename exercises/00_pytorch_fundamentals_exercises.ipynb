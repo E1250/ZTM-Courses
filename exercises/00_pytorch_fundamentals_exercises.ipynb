{
  "nbformat": 4,
  "nbformat_minor": 0,
  "metadata": {
    "colab": {
      "name": "00_pytorch_fundamentals_exercises.ipynb",
      "provenance": [],
      "include_colab_link": true
    },
    "kernelspec": {
      "name": "python3",
      "display_name": "Python 3"
    },
    "language_info": {
      "name": "python"
    },
    "accelerator": "GPU"
  },
  "cells": [
    {
      "cell_type": "markdown",
      "metadata": {
        "id": "view-in-github",
        "colab_type": "text"
      },
      "source": [
        "<a href=\"https://colab.research.google.com/github/E1250/ZTM-Courses/blob/main/exercises/00_pytorch_fundamentals_exercises.ipynb\" target=\"_parent\"><img src=\"https://colab.research.google.com/assets/colab-badge.svg\" alt=\"Open In Colab\"/></a>"
      ]
    },
    {
      "cell_type": "markdown",
      "source": [
        "# 00. PyTorch Fundamentals Exercises\n",
        "\n",
        "### 1. Documentation reading \n",
        "\n",
        "A big part of deep learning (and learning to code in general) is getting familiar with the documentation of a certain framework you're using. We'll be using the PyTorch documentation a lot throughout the rest of this course. So I'd recommend spending 10-minutes reading the following (it's okay if you don't get some things for now, the focus is not yet full understanding, it's awareness):\n",
        "  * The documentation on [`torch.Tensor`](https://pytorch.org/docs/stable/tensors.html#torch-tensor).\n",
        "  * The documentation on [`torch.cuda`](https://pytorch.org/docs/master/notes/cuda.html#cuda-semantics).\n",
        "\n"
      ],
      "metadata": {
        "id": "AzDBM_v4iMe7"
      }
    },
    {
      "cell_type": "code",
      "source": [
        "# No code solution (reading)\n",
        "# Done"
      ],
      "metadata": {
        "id": "bGD0oD8Kizak"
      },
      "execution_count": 1,
      "outputs": []
    },
    {
      "cell_type": "markdown",
      "source": [
        "### 2. Create a random tensor with shape `(7, 7)`.\n"
      ],
      "metadata": {
        "id": "__iXqqz-ioUJ"
      }
    },
    {
      "cell_type": "code",
      "source": [
        "# Import torch\n",
        "import torch\n",
        "\n",
        "# Create random tensor\n",
        "rand1 = torch.rand(7,7)\n",
        "rand1"
      ],
      "metadata": {
        "id": "6pUq9Dc8i2L7",
        "outputId": "ab93dc97-0f7e-4b97-92f2-ce9989be8163",
        "colab": {
          "base_uri": "https://localhost:8080/"
        }
      },
      "execution_count": 4,
      "outputs": [
        {
          "output_type": "execute_result",
          "data": {
            "text/plain": [
              "tensor([[0.5840, 0.1368, 0.9391, 0.1950, 0.1429, 0.5082, 0.5082],\n",
              "        [0.8374, 0.4118, 0.4584, 0.5190, 0.3355, 0.8380, 0.6347],\n",
              "        [0.2253, 0.7514, 0.4923, 0.1510, 0.9682, 0.6359, 0.2045],\n",
              "        [0.2273, 0.1577, 0.3495, 0.4917, 0.6954, 0.5150, 0.6671],\n",
              "        [0.0500, 0.9532, 0.5281, 0.2964, 0.8496, 0.0836, 0.0926],\n",
              "        [0.6439, 0.6864, 0.4794, 0.2156, 0.0619, 0.0156, 0.7019],\n",
              "        [0.5444, 0.0847, 0.6211, 0.0615, 0.8731, 0.8510, 0.4180]])"
            ]
          },
          "metadata": {},
          "execution_count": 4
        }
      ]
    },
    {
      "cell_type": "markdown",
      "source": [
        "### 3. Perform a matrix multiplication on the tensor from 2 with another random tensor with shape `(1, 7)` (hint: you may have to transpose the second tensor)."
      ],
      "metadata": {
        "id": "9-XxvRLfiqkR"
      }
    },
    {
      "cell_type": "code",
      "source": [
        "# Create another random tensor\n",
        "rand2 = torch.rand(1,7)\n",
        "# Perform matrix multiplication \n",
        "torch.matmul(rand1,rand2.reshape(7,-1))"
      ],
      "metadata": {
        "id": "NcLqR0Sbi_vT",
        "outputId": "30703359-9ab3-465e-d620-24bef1b65c4e",
        "colab": {
          "base_uri": "https://localhost:8080/"
        }
      },
      "execution_count": 11,
      "outputs": [
        {
          "output_type": "execute_result",
          "data": {
            "text/plain": [
              "tensor([[1.5758],\n",
              "        [2.1964],\n",
              "        [2.4219],\n",
              "        [1.6230],\n",
              "        [2.1140],\n",
              "        [1.5831],\n",
              "        [2.1649]])"
            ]
          },
          "metadata": {},
          "execution_count": 11
        }
      ]
    },
    {
      "cell_type": "markdown",
      "source": [
        "### 4. Set the random seed to `0` and do 2 & 3 over again.\n",
        "\n",
        "The output should be:\n",
        "```\n",
        "(tensor([[1.8542],\n",
        "         [1.9611],\n",
        "         [2.2884],\n",
        "         [3.0481],\n",
        "         [1.7067],\n",
        "         [2.5290],\n",
        "         [1.7989]]), torch.Size([7, 1]))\n",
        "```"
      ],
      "metadata": {
        "id": "eiutdKUFiryU"
      }
    },
    {
      "cell_type": "code",
      "source": [
        "# Set manual seed\n",
        "torch.manual_seed(seed=0)\n",
        "\n",
        "# Create two random tensors\n",
        "rand1_tensor = torch.rand(7,7)\n",
        "rand2_tensor = torch.rand(1,7)\n",
        "\n",
        "# Matrix multiply tensors\n",
        "torch.mm(rand1_tensor,rand2_tensor.reshape(7,1)) # anoher way to matrix mul is using mm"
      ],
      "metadata": {
        "id": "D-lOWI_1jRMm",
        "outputId": "c1adb4b8-4a7e-4e65-a7f0-c49d6181e445",
        "colab": {
          "base_uri": "https://localhost:8080/"
        }
      },
      "execution_count": 15,
      "outputs": [
        {
          "output_type": "execute_result",
          "data": {
            "text/plain": [
              "tensor([[1.8542],\n",
              "        [1.9611],\n",
              "        [2.2884],\n",
              "        [3.0481],\n",
              "        [1.7067],\n",
              "        [2.5290],\n",
              "        [1.7989]])"
            ]
          },
          "metadata": {},
          "execution_count": 15
        }
      ]
    },
    {
      "cell_type": "markdown",
      "source": [
        "### 5. Speaking of random seeds, we saw how to set it with `torch.manual_seed()` but is there a GPU equivalent? (hint: you'll need to look into the documentation for `torch.cuda` for this one)\n",
        "  * If there is, set the GPU random seed to `1234`."
      ],
      "metadata": {
        "id": "ezY6ks9Cis37"
      }
    },
    {
      "cell_type": "code",
      "source": [
        "# Set random seed on the GPU\n",
        "\n",
        "torch.cuda.manual_seed(seed=1234)\n"
      ],
      "metadata": {
        "id": "_LKWcfSTjp00"
      },
      "execution_count": 18,
      "outputs": []
    },
    {
      "cell_type": "markdown",
      "source": [
        "\n",
        "### 6. Create two random tensors of shape `(2, 3)` and send them both to the GPU (you'll need access to a GPU for this). Set `torch.manual_seed(1234)` when creating the tensors (this doesn't have to be the GPU random seed). The output should be something like:\n",
        "\n",
        "```\n",
        "Device: cuda\n",
        "(tensor([[0.0290, 0.4019, 0.2598],\n",
        "         [0.3666, 0.0583, 0.7006]], device='cuda:0'),\n",
        " tensor([[0.0518, 0.4681, 0.6738],\n",
        "         [0.3315, 0.7837, 0.5631]], device='cuda:0'))\n",
        "```"
      ],
      "metadata": {
        "id": "Ir9qSaj6it4n"
      }
    },
    {
      "cell_type": "code",
      "source": [
        "# Set random seed\n",
        "torch.manual_seed(seed=1234)\n",
        "\n",
        "rand1_tensor = torch.rand(2,3)\n",
        "rand2_tensor = torch.rand(2,3)\n",
        "\n",
        "# Check for access to GPU\n",
        "device = 'cuda' if torch.cuda.is_available else 'cpu'\n",
        "is_exist = torch.cuda.is_available\n",
        "\n",
        "# Create two random tensors on GPU\n",
        "with torch.cuda.device(0): # `0` is index of gpu you select\n",
        "  rand1_tensor = torch.rand(2,3).cuda()\n",
        "  rand2_tensor = torch.rand(2,3).to('cuda')  # you can use 'device' variable\n",
        "\n",
        "\n",
        "rand1_tensor,rand2_tensor\n"
      ],
      "metadata": {
        "id": "azXExiFZj5nm",
        "outputId": "f914bbec-4434-471e-ec94-06015b78519a",
        "colab": {
          "base_uri": "https://localhost:8080/"
        }
      },
      "execution_count": 21,
      "outputs": [
        {
          "output_type": "execute_result",
          "data": {
            "text/plain": [
              "(tensor([[0.7749, 0.8208, 0.2793],\n",
              "         [0.6817, 0.2837, 0.6567]], device='cuda:0'),\n",
              " tensor([[0.2388, 0.7313, 0.6012],\n",
              "         [0.3043, 0.2548, 0.6294]], device='cuda:0'))"
            ]
          },
          "metadata": {},
          "execution_count": 21
        }
      ]
    },
    {
      "cell_type": "markdown",
      "source": [
        "\n",
        "### 7. Perform a matrix multiplication on the tensors you created in 6 (again, you may have to adjust the shapes of one of the tensors).\n",
        "\n",
        "The output should look like:\n",
        "```\n",
        "(tensor([[0.3647, 0.4709],\n",
        "         [0.5184, 0.5617]], device='cuda:0'), torch.Size([2, 2]))\n",
        "```"
      ],
      "metadata": {
        "id": "5TlAxeiSiu1y"
      }
    },
    {
      "cell_type": "code",
      "source": [
        "# Perform matmul on tensor_A and tensor_B\n",
        "out = rand1_tensor.matmul(rand2_tensor.reshape(3,2))"
      ],
      "metadata": {
        "id": "fAeG7ox0lHEO"
      },
      "execution_count": 24,
      "outputs": []
    },
    {
      "cell_type": "markdown",
      "source": [
        "### 8. Find the maximum and minimum values of the output of 7."
      ],
      "metadata": {
        "id": "G7qfa5CSivwg"
      }
    },
    {
      "cell_type": "code",
      "source": [
        "# Find max\n",
        "print(out.max())\n",
        "# Find min\n",
        "print(out.min())"
      ],
      "metadata": {
        "id": "Fu8_3mZpllOd",
        "outputId": "3251c7ae-98a2-4556-a05b-0c3ac00beeca",
        "colab": {
          "base_uri": "https://localhost:8080/"
        }
      },
      "execution_count": 28,
      "outputs": [
        {
          "output_type": "stream",
          "name": "stdout",
          "text": [
            "tensor(0.9982, device='cuda:0')\n",
            "tensor(0.5006, device='cuda:0')\n"
          ]
        }
      ]
    },
    {
      "cell_type": "markdown",
      "source": [
        "### 9. Find the maximum and minimum index values of the output of 7."
      ],
      "metadata": {
        "id": "wrTj5FgNiw47"
      }
    },
    {
      "cell_type": "code",
      "source": [
        "# Find arg max\n",
        "print(out.argmax())\n",
        "\n",
        "# Find arg min\n",
        "print(out.argmin())\n"
      ],
      "metadata": {
        "id": "CCEKt4K2lsfQ",
        "outputId": "5b5a7bbb-fb25-4a6c-af08-46291f64eae7",
        "colab": {
          "base_uri": "https://localhost:8080/"
        }
      },
      "execution_count": 29,
      "outputs": [
        {
          "output_type": "stream",
          "name": "stdout",
          "text": [
            "tensor(3, device='cuda:0')\n",
            "tensor(2, device='cuda:0')\n"
          ]
        }
      ]
    },
    {
      "cell_type": "markdown",
      "source": [
        "\n",
        "### 10. Make a random tensor with shape `(1, 1, 1, 10)` and then create a new tensor with all the `1` dimensions removed to be left with a tensor of shape `(10)`. Set the seed to `7` when you create it and print out the first tensor and it's shape as well as the second tensor and it's shape.\n",
        "\n",
        "The output should look like:\n",
        "\n",
        "```\n",
        "tensor([[[[0.5349, 0.1988, 0.6592, 0.6569, 0.2328, 0.4251, 0.2071, 0.6297,\n",
        "           0.3653, 0.8513]]]]) torch.Size([1, 1, 1, 10])\n",
        "tensor([0.5349, 0.1988, 0.6592, 0.6569, 0.2328, 0.4251, 0.2071, 0.6297, 0.3653,\n",
        "        0.8513]) torch.Size([10])\n",
        "```"
      ],
      "metadata": {
        "id": "hmeybz4uixy7"
      }
    },
    {
      "cell_type": "code",
      "source": [
        "# Set seed\n",
        "torch.manual_seed(seed=7)\n",
        "\n",
        "# Create random tensor\n",
        "rand1 = torch.rand(1,1,1,10)\n",
        "ones = torch.ones(1,1,1,10)\n",
        "\n",
        "# Remove single dimensions  \n",
        "ones.squeeze_()  # the `_` in the end of the function for inplace changement\n",
        "\n",
        "# Print out tensors and their shapes\n",
        "print(f'{rand1} , shape = {rand1.shape}')\n",
        "print(f'{rand2} , shape = {rand2.shape}')\n"
      ],
      "metadata": {
        "id": "TQ9zbRzVl1jV",
        "outputId": "e6c1cd50-6d09-49fe-9780-b4e7608dba0c",
        "colab": {
          "base_uri": "https://localhost:8080/"
        }
      },
      "execution_count": 31,
      "outputs": [
        {
          "output_type": "stream",
          "name": "stdout",
          "text": [
            "tensor([[[[0.5349, 0.1988, 0.6592, 0.6569, 0.2328, 0.4251, 0.2071, 0.6297,\n",
            "           0.3653, 0.8513]]]]) , shape = torch.Size([1, 1, 1, 10])\n",
            "tensor([[0.7810, 0.8988, 0.5323, 0.2026, 0.9693, 0.4895, 0.1379]]) , shape = torch.Size([1, 7])\n"
          ]
        }
      ]
    }
  ]
}